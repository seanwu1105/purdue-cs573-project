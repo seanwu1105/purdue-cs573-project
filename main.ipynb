{
 "cells": [
  {
   "cell_type": "code",
   "execution_count": 10,
   "metadata": {},
   "outputs": [],
   "source": [
    "import pandas as pd"
   ]
  },
  {
   "cell_type": "code",
   "execution_count": 11,
   "metadata": {},
   "outputs": [],
   "source": [
    "df = pd.read_csv(\"./assets/preprocessed.csv\", encoding=\"ISO-8859-1\")"
   ]
  },
  {
   "cell_type": "markdown",
   "metadata": {},
   "source": [
    "# Models"
   ]
  },
  {
   "cell_type": "code",
   "execution_count": 12,
   "metadata": {},
   "outputs": [],
   "source": [
    "from sklearn.neighbors import KNeighborsClassifier\n",
    "from sklearn.naive_bayes import GaussianNB\n",
    "from sklearn.ensemble import RandomForestClassifier\n",
    "from sklearn.svm import SVC\n",
    "from xgboost import XGBClassifier\n",
    "\n",
    "classifiers = [\n",
    "    KNeighborsClassifier(n_neighbors=10), \n",
    "    GaussianNB(),\n",
    "    RandomForestClassifier(max_depth=20, n_estimators=1000),\n",
    "    SVC(),\n",
    "    XGBClassifier(use_label_encoder=False)\n",
    "]"
   ]
  },
  {
   "cell_type": "markdown",
   "metadata": {},
   "source": [
    "# Embedding"
   ]
  },
  {
   "cell_type": "code",
   "execution_count": 13,
   "metadata": {},
   "outputs": [],
   "source": [
    "from embed_bag_of_words import load_embedded_bag_of_words\n",
    "from embed_tf_idf import load_embedded_tf_idf\n",
    "from embed_word2vec import load_embedded_word2vec\n",
    "from embed_glove import load_embedded_glove\n",
    "methods = [load_embedded_bag_of_words, load_embedded_tf_idf, load_embedded_word2vec, load_embedded_glove]\n",
    "embeddings = ['bag of words', 'tf idf', 'word2vec','glove']"
   ]
  },
  {
   "cell_type": "markdown",
   "metadata": {},
   "source": [
    "# Train"
   ]
  },
  {
   "cell_type": "code",
   "execution_count": 14,
   "metadata": {},
   "outputs": [],
   "source": [
    "from sklearn.model_selection import train_test_split\n",
    "from sklearn.metrics import accuracy_score"
   ]
  },
  {
   "cell_type": "code",
   "execution_count": 15,
   "metadata": {},
   "outputs": [],
   "source": [
    "label = df[\"label\"].to_numpy()"
   ]
  },
  {
   "cell_type": "code",
   "execution_count": 16,
   "metadata": {
    "scrolled": true
   },
   "outputs": [
    {
     "name": "stdout",
     "output_type": "stream",
     "text": [
      "bag of words\n",
      "KNeighborsClassifier test accuracy: 0.286\n",
      "GaussianNB test accuracy: 0.444\n",
      "RandomForestClassifier test accuracy: 0.607\n",
      "SVC test accuracy: 0.782\n",
      "[04:01:29] WARNING: ../src/learner.cc:1115: Starting in XGBoost 1.3.0, the default evaluation metric used with the objective 'multi:softprob' was changed from 'merror' to 'mlogloss'. Explicitly set eval_metric if you'd like to restore the old behavior.\n",
      "XGBClassifier test accuracy: 0.769\n",
      "\n",
      "tf idf\n",
      "KNeighborsClassifier test accuracy: 0.204\n",
      "GaussianNB test accuracy: 0.442\n",
      "RandomForestClassifier test accuracy: 0.602\n",
      "SVC test accuracy: 0.792\n",
      "[09:07:26] WARNING: ../src/learner.cc:1115: Starting in XGBoost 1.3.0, the default evaluation metric used with the objective 'multi:softprob' was changed from 'merror' to 'mlogloss'. Explicitly set eval_metric if you'd like to restore the old behavior.\n",
      "XGBClassifier test accuracy: 0.757\n",
      "\n",
      "word2vec\n",
      "KNeighborsClassifier test accuracy: 0.590\n",
      "GaussianNB test accuracy: 0.509\n",
      "RandomForestClassifier test accuracy: 0.662\n",
      "SVC test accuracy: 0.703\n",
      "[09:19:48] WARNING: ../src/learner.cc:1115: Starting in XGBoost 1.3.0, the default evaluation metric used with the objective 'multi:softprob' was changed from 'merror' to 'mlogloss'. Explicitly set eval_metric if you'd like to restore the old behavior.\n",
      "XGBClassifier test accuracy: 0.684\n",
      "\n",
      "glove\n",
      "KNeighborsClassifier test accuracy: 0.589\n",
      "GaussianNB test accuracy: 0.552\n",
      "RandomForestClassifier test accuracy: 0.641\n",
      "SVC test accuracy: 0.676\n",
      "[09:23:06] WARNING: ../src/learner.cc:1115: Starting in XGBoost 1.3.0, the default evaluation metric used with the objective 'multi:softprob' was changed from 'merror' to 'mlogloss'. Explicitly set eval_metric if you'd like to restore the old behavior.\n",
      "XGBClassifier test accuracy: 0.662\n",
      "\n"
     ]
    }
   ],
   "source": [
    "for i in range(len(embeddings)):\n",
    "    print(embeddings[i])\n",
    "    data = methods[i]()\n",
    "    X_train, X_test, y_train, y_test = train_test_split(data, label, test_size=0.2, random_state=42)\n",
    "    for classifier in classifiers:\n",
    "        classifier.n_jobs = -1\n",
    "        classifier.fit(X_train, y_train)\n",
    "        y_pred = classifier.predict(X_test)\n",
    "        acc_test = accuracy_score(y_test, y_pred)\n",
    "        print(classifier.__class__.__name__+\" test accuracy: %0.3f\" % (acc_test))\n",
    "    print()"
   ]
  }
 ],
 "metadata": {
  "interpreter": {
   "hash": "70bd0d6ef9c5055a9d32c1f42adf368394e72f3f0dcd812e09eb039ff3864e99"
  },
  "kernelspec": {
   "display_name": "Python 3.8.5 64-bit ('.venv': poetry)",
   "name": "python3"
  },
  "language_info": {
   "codemirror_mode": {
    "name": "ipython",
    "version": 3
   },
   "file_extension": ".py",
   "mimetype": "text/x-python",
   "name": "python",
   "nbconvert_exporter": "python",
   "pygments_lexer": "ipython3",
   "version": "3.8.5"
  }
 },
 "nbformat": 4,
 "nbformat_minor": 2
}
