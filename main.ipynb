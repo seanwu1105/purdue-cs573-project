{
 "cells": [
  {
   "cell_type": "code",
   "execution_count": 22,
   "metadata": {},
   "outputs": [],
   "source": [
    "import pandas as pd\n"
   ]
  },
  {
   "cell_type": "code",
   "execution_count": 23,
   "metadata": {},
   "outputs": [],
   "source": [
    "df = pd.read_csv('./assets/preprocessed.csv', encoding='ISO-8859-1')\n"
   ]
  },
  {
   "cell_type": "markdown",
   "metadata": {},
   "source": [
    "# Models\n"
   ]
  },
  {
   "cell_type": "code",
   "execution_count": 24,
   "metadata": {},
   "outputs": [],
   "source": [
    "from sklearn.neighbors import KNeighborsClassifier\n",
    "from sklearn.naive_bayes import GaussianNB\n",
    "from sklearn.ensemble import RandomForestClassifier\n",
    "from sklearn.linear_model import LogisticRegression\n",
    "from sklearn.svm import LinearSVC\n",
    "from xgboost import XGBClassifier\n",
    "\n",
    "classifiers = (\n",
    "    LogisticRegression(max_iter=100000),\n",
    "    KNeighborsClassifier(n_neighbors=10),\n",
    "    GaussianNB(),\n",
    "    RandomForestClassifier(max_depth=20, n_estimators=1000),\n",
    "    LinearSVC(max_iter=100000),\n",
    "    XGBClassifier(use_label_encoder=False, eval_metric='mlogloss')\n",
    ")\n"
   ]
  },
  {
   "cell_type": "markdown",
   "metadata": {},
   "source": [
    "# Embeddings\n"
   ]
  },
  {
   "cell_type": "code",
   "execution_count": 25,
   "metadata": {},
   "outputs": [],
   "source": [
    "from embed_bag_of_words import load_embedded_bag_of_words\n",
    "from embed_tf_idf import load_embedded_tf_idf\n",
    "from embed_word2vec import load_embedded_word2vec\n",
    "from embed_glove import load_embedded_glove\n",
    "\n",
    "embeddings = {'bag of words': load_embedded_bag_of_words,\n",
    "              'tf idf': load_embedded_tf_idf,\n",
    "              'word2vec': load_embedded_word2vec,\n",
    "              'glove': load_embedded_glove}\n"
   ]
  },
  {
   "cell_type": "markdown",
   "metadata": {},
   "source": [
    "# Training\n"
   ]
  },
  {
   "cell_type": "code",
   "execution_count": 26,
   "metadata": {},
   "outputs": [],
   "source": [
    "from sklearn.model_selection import train_test_split\n",
    "from sklearn.metrics import accuracy_score\n",
    "import time\n"
   ]
  },
  {
   "cell_type": "code",
   "execution_count": 27,
   "metadata": {},
   "outputs": [],
   "source": [
    "labels = df['label'].to_numpy()\n"
   ]
  },
  {
   "cell_type": "code",
   "execution_count": 28,
   "metadata": {
    "scrolled": true
   },
   "outputs": [
    {
     "name": "stdout",
     "output_type": "stream",
     "text": [
      "bag of words\n",
      "LogisticRegression test accuracy: 0.803, training time: 594.3867499828339\n",
      "KNeighborsClassifier test accuracy: 0.286, training time: 0.002147674560546875\n",
      "GaussianNB test accuracy: 0.444, training time: 3.509169578552246\n",
      "RandomForestClassifier test accuracy: 0.607, training time: 120.4115481376648\n",
      "LinearSVC test accuracy: 0.779, training time: 5.093305826187134\n",
      "XGBClassifier test accuracy: 0.769, training time: 372.45235419273376\n",
      "\n",
      "tf idf\n",
      "LogisticRegression test accuracy: 0.802, training time: 382.71795868873596\n",
      "KNeighborsClassifier test accuracy: 0.204, training time: 0.20876526832580566\n",
      "GaussianNB test accuracy: 0.442, training time: 3.0113823413848877\n",
      "RandomForestClassifier test accuracy: 0.601, training time: 120.8062379360199\n",
      "LinearSVC test accuracy: 0.806, training time: 1.1984708309173584\n",
      "XGBClassifier test accuracy: 0.757, training time: 376.30420088768005\n",
      "\n",
      "word2vec\n",
      "LogisticRegression test accuracy: 0.671, training time: 9.849668264389038\n",
      "KNeighborsClassifier test accuracy: 0.590, training time: 0.014936208724975586\n",
      "GaussianNB test accuracy: 0.509, training time: 0.08538699150085449\n",
      "RandomForestClassifier test accuracy: 0.658, training time: 51.67147135734558\n",
      "LinearSVC test accuracy: 0.677, training time: 8.514950037002563\n",
      "XGBClassifier test accuracy: 0.684, training time: 65.62426710128784\n",
      "\n",
      "glove\n",
      "LogisticRegression test accuracy: 0.643, training time: 4.827470302581787\n",
      "KNeighborsClassifier test accuracy: 0.589, training time: 0.004820108413696289\n",
      "GaussianNB test accuracy: 0.552, training time: 0.030397415161132812\n",
      "RandomForestClassifier test accuracy: 0.641, training time: 30.501567125320435\n",
      "LinearSVC test accuracy: 0.644, training time: 34.506994009017944\n",
      "XGBClassifier test accuracy: 0.662, training time: 21.184844732284546\n",
      "\n"
     ]
    }
   ],
   "source": [
    "for name, load_func in embeddings.items():\n",
    "    print(name)\n",
    "    data = load_func()\n",
    "    X_train, X_test, y_train, y_test = train_test_split(data, labels,\n",
    "                                                        test_size=0.2,\n",
    "                                                        random_state=42)\n",
    "    for classifier in classifiers:\n",
    "        classifier.n_jobs = -1\n",
    "        start_time = time.time()\n",
    "        classifier.fit(X_train, y_train)\n",
    "        time_elapsed = time.time() - start_time\n",
    "        y_pred = classifier.predict(X_test)\n",
    "        acc_test = accuracy_score(y_test, y_pred)\n",
    "        print(f'{classifier.__class__.__name__} test accuracy: {acc_test:.3f}, training time: {time_elapsed}')\n",
    "    print()\n"
   ]
  }
 ],
 "metadata": {
  "interpreter": {
   "hash": "70bd0d6ef9c5055a9d32c1f42adf368394e72f3f0dcd812e09eb039ff3864e99"
  },
  "kernelspec": {
   "display_name": "Python 3.8.5 64-bit ('.venv': poetry)",
   "name": "python3"
  },
  "language_info": {
   "codemirror_mode": {
    "name": "ipython",
    "version": 3
   },
   "file_extension": ".py",
   "mimetype": "text/x-python",
   "name": "python",
   "nbconvert_exporter": "python",
   "pygments_lexer": "ipython3",
   "version": "3.8.5"
  }
 },
 "nbformat": 4,
 "nbformat_minor": 2
}
