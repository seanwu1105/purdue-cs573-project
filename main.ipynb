{
 "cells": [
  {
   "cell_type": "code",
   "execution_count": 8,
   "metadata": {},
   "outputs": [],
   "source": [
    "import pandas as pd\n"
   ]
  },
  {
   "cell_type": "code",
   "execution_count": 9,
   "metadata": {},
   "outputs": [],
   "source": [
    "df = pd.read_csv('./assets/preprocessed.csv', encoding='ISO-8859-1')\n"
   ]
  },
  {
   "cell_type": "markdown",
   "metadata": {},
   "source": [
    "# Models\n"
   ]
  },
  {
   "cell_type": "code",
   "execution_count": 10,
   "metadata": {},
   "outputs": [],
   "source": [
    "from sklearn.neighbors import KNeighborsClassifier\n",
    "from sklearn.naive_bayes import GaussianNB\n",
    "from sklearn.ensemble import RandomForestClassifier\n",
    "from sklearn.svm import LinearSVC\n",
    "from xgboost import XGBClassifier\n",
    "\n",
    "classifiers = (\n",
    "    KNeighborsClassifier(n_neighbors=10),\n",
    "    GaussianNB(),\n",
    "    RandomForestClassifier(max_depth=20, n_estimators=1000),\n",
    "    LinearSVC(max_iter=100000),\n",
    "    XGBClassifier(use_label_encoder=False, eval_metric='mlogloss')\n",
    ")\n"
   ]
  },
  {
   "cell_type": "markdown",
   "metadata": {},
   "source": [
    "# Embeddings\n"
   ]
  },
  {
   "cell_type": "code",
   "execution_count": 11,
   "metadata": {},
   "outputs": [],
   "source": [
    "from embed_bag_of_words import load_embedded_bag_of_words\n",
    "from embed_tf_idf import load_embedded_tf_idf\n",
    "from embed_word2vec import load_embedded_word2vec\n",
    "from embed_glove import load_embedded_glove\n",
    "\n",
    "embeddings = {'bag of words': load_embedded_bag_of_words,\n",
    "              'tf idf': load_embedded_tf_idf,\n",
    "              'word2vec': load_embedded_word2vec,\n",
    "              'glove': load_embedded_glove}\n"
   ]
  },
  {
   "cell_type": "markdown",
   "metadata": {},
   "source": [
    "# Training\n"
   ]
  },
  {
   "cell_type": "code",
   "execution_count": 12,
   "metadata": {},
   "outputs": [],
   "source": [
    "from sklearn.model_selection import train_test_split\n",
    "from sklearn.metrics import accuracy_score\n",
    "import time\n"
   ]
  },
  {
   "cell_type": "code",
   "execution_count": 13,
   "metadata": {},
   "outputs": [],
   "source": [
    "labels = df['label'].to_numpy()\n"
   ]
  },
  {
   "cell_type": "code",
   "execution_count": 14,
   "metadata": {
    "scrolled": true
   },
   "outputs": [
    {
     "name": "stdout",
     "output_type": "stream",
     "text": [
      "bag of words\n",
      "KNeighborsClassifier test accuracy: 0.286, training time: 0.0013053417205810547\n",
      "GaussianNB test accuracy: 0.444, training time: 3.5050323009490967\n",
      "RandomForestClassifier test accuracy: 0.609, training time: 118.93186521530151\n",
      "LinearSVC test accuracy: 0.779, training time: 5.126997470855713\n",
      "XGBClassifier test accuracy: 0.769, training time: 371.67400646209717\n",
      "\n",
      "tf idf\n",
      "KNeighborsClassifier test accuracy: 0.204, training time: 0.1533803939819336\n",
      "GaussianNB test accuracy: 0.442, training time: 3.0362346172332764\n",
      "RandomForestClassifier test accuracy: 0.603, training time: 119.82797050476074\n",
      "LinearSVC test accuracy: 0.806, training time: 1.1637346744537354\n",
      "XGBClassifier test accuracy: 0.757, training time: 374.7902054786682\n",
      "\n",
      "word2vec\n",
      "KNeighborsClassifier test accuracy: 0.590, training time: 0.00878286361694336\n",
      "GaussianNB test accuracy: 0.509, training time: 0.09160709381103516\n",
      "RandomForestClassifier test accuracy: 0.657, training time: 51.26156187057495\n",
      "LinearSVC test accuracy: 0.677, training time: 8.236847400665283\n",
      "XGBClassifier test accuracy: 0.684, training time: 66.61106157302856\n",
      "\n",
      "glove\n",
      "KNeighborsClassifier test accuracy: 0.589, training time: 0.0031630992889404297\n",
      "GaussianNB test accuracy: 0.552, training time: 0.02702498435974121\n",
      "RandomForestClassifier test accuracy: 0.638, training time: 29.688828706741333\n",
      "LinearSVC test accuracy: 0.644, training time: 28.47947883605957\n",
      "XGBClassifier test accuracy: 0.662, training time: 20.94059157371521\n",
      "\n"
     ]
    }
   ],
   "source": [
    "for name, load_func in embeddings.items():\n",
    "    print(name)\n",
    "    data = load_func()\n",
    "    X_train, X_test, y_train, y_test = train_test_split(data, labels,\n",
    "                                                        test_size=0.2,\n",
    "                                                        random_state=42)\n",
    "    for classifier in classifiers:\n",
    "        classifier.n_jobs = -1\n",
    "        start_time = time.time()\n",
    "        classifier.fit(X_train, y_train)\n",
    "        time_elapsed = time.time() - start_time\n",
    "        y_pred = classifier.predict(X_test)\n",
    "        acc_test = accuracy_score(y_test, y_pred)\n",
    "        print(f'{classifier.__class__.__name__} test accuracy: {acc_test:.3f}, training time: {time_elapsed}')\n",
    "    print()\n"
   ]
  }
 ],
 "metadata": {
  "interpreter": {
   "hash": "70bd0d6ef9c5055a9d32c1f42adf368394e72f3f0dcd812e09eb039ff3864e99"
  },
  "kernelspec": {
   "display_name": "Python 3.8.5 64-bit ('.venv': poetry)",
   "name": "python3"
  },
  "language_info": {
   "codemirror_mode": {
    "name": "ipython",
    "version": 3
   },
   "file_extension": ".py",
   "mimetype": "text/x-python",
   "name": "python",
   "nbconvert_exporter": "python",
   "pygments_lexer": "ipython3",
   "version": "3.8.5"
  }
 },
 "nbformat": 4,
 "nbformat_minor": 2
}
