{
 "cells": [
  {
   "cell_type": "code",
   "execution_count": 1,
   "metadata": {},
   "outputs": [],
   "source": [
    "import pandas as pd\n",
    "import numpy as np\n",
    "import scipy.sparse\n",
    "import sklearn.ensemble\n",
    "import sklearn.model_selection\n"
   ]
  },
  {
   "cell_type": "code",
   "execution_count": 2,
   "metadata": {},
   "outputs": [
    {
     "data": {
      "text/plain": [
       "(44955,)"
      ]
     },
     "execution_count": 2,
     "metadata": {},
     "output_type": "execute_result"
    }
   ],
   "source": [
    "df = pd.read_csv('./assets/preprocessed.csv', encoding='ISO-8859-1')\n",
    "\n",
    "labels = df['label'].to_numpy()\n",
    "\n",
    "labels.shape\n"
   ]
  },
  {
   "cell_type": "code",
   "execution_count": 3,
   "metadata": {},
   "outputs": [
    {
     "data": {
      "text/plain": [
       "(44955, 11317)"
      ]
     },
     "execution_count": 3,
     "metadata": {},
     "output_type": "execute_result"
    }
   ],
   "source": [
    "def load_embedded_tf_idf() -> np.ndarray:\n",
    "    ret = scipy.sparse.load_npz('./assets/embedded_tf_idf.npz').toarray()\n",
    "    assert isinstance(ret, np.ndarray)\n",
    "    return ret\n",
    "\n",
    "\n",
    "features_bow = load_embedded_tf_idf()\n",
    "\n",
    "features_bow.shape\n"
   ]
  },
  {
   "cell_type": "code",
   "execution_count": 4,
   "metadata": {},
   "outputs": [],
   "source": [
    "X_train, X_test, y_train, y_test = (sklearn\n",
    "                                    .model_selection\n",
    "                                    .train_test_split(features_bow,\n",
    "                                                      labels,\n",
    "                                                      test_size=0.1,\n",
    "                                                      random_state=1))\n",
    "\n",
    "classifier = sklearn.ensemble.RandomForestClassifier(n_estimators=1000,\n",
    "                                                     max_depth=10,\n",
    "                                                     n_jobs=-1)\n",
    "\n",
    "classifier.fit(X_train, y_train)\n",
    "y_pred = classifier.predict(X_test)\n"
   ]
  },
  {
   "cell_type": "code",
   "execution_count": 5,
   "metadata": {},
   "outputs": [
    {
     "name": "stdout",
     "output_type": "stream",
     "text": [
      "              precision    recall  f1-score   support\n",
      "\n",
      "           0       0.85      0.33      0.47      1661\n",
      "           1       0.00      0.00      0.00       823\n",
      "           2       0.50      0.97      0.66      2012\n",
      "\n",
      "    accuracy                           0.55      4496\n",
      "   macro avg       0.45      0.43      0.38      4496\n",
      "weighted avg       0.54      0.55      0.47      4496\n",
      "\n"
     ]
    },
    {
     "name": "stderr",
     "output_type": "stream",
     "text": [
      "/home/shuang/purdue-cs573-project/.venv/lib/python3.8/site-packages/sklearn/metrics/_classification.py:1308: UndefinedMetricWarning: Precision and F-score are ill-defined and being set to 0.0 in labels with no predicted samples. Use `zero_division` parameter to control this behavior.\n",
      "  _warn_prf(average, modifier, msg_start, len(result))\n",
      "/home/shuang/purdue-cs573-project/.venv/lib/python3.8/site-packages/sklearn/metrics/_classification.py:1308: UndefinedMetricWarning: Precision and F-score are ill-defined and being set to 0.0 in labels with no predicted samples. Use `zero_division` parameter to control this behavior.\n",
      "  _warn_prf(average, modifier, msg_start, len(result))\n",
      "/home/shuang/purdue-cs573-project/.venv/lib/python3.8/site-packages/sklearn/metrics/_classification.py:1308: UndefinedMetricWarning: Precision and F-score are ill-defined and being set to 0.0 in labels with no predicted samples. Use `zero_division` parameter to control this behavior.\n",
      "  _warn_prf(average, modifier, msg_start, len(result))\n"
     ]
    }
   ],
   "source": [
    "print(sklearn.metrics.classification_report(y_test, y_pred))"
   ]
  },
  {
   "cell_type": "code",
   "execution_count": 6,
   "metadata": {},
   "outputs": [
    {
     "name": "stdout",
     "output_type": "stream",
     "text": [
      "[0.54634207 0.54387049 0.54349975 0.54189323 0.53936473]\n"
     ]
    }
   ],
   "source": [
    "accuracies = sklearn.model_selection.cross_val_score(classifier, X_train, y_train, scoring='accuracy', cv=5, n_jobs=-1)\n",
    "\n",
    "print(accuracies)"
   ]
  }
 ],
 "metadata": {
  "interpreter": {
   "hash": "70bd0d6ef9c5055a9d32c1f42adf368394e72f3f0dcd812e09eb039ff3864e99"
  },
  "kernelspec": {
   "display_name": "Python 3.8.5 64-bit ('.venv': poetry)",
   "name": "python3"
  },
  "language_info": {
   "codemirror_mode": {
    "name": "ipython",
    "version": 3
   },
   "file_extension": ".py",
   "mimetype": "text/x-python",
   "name": "python",
   "nbconvert_exporter": "python",
   "pygments_lexer": "ipython3",
   "version": "3.8.5"
  },
  "orig_nbformat": 4
 },
 "nbformat": 4,
 "nbformat_minor": 2
}
