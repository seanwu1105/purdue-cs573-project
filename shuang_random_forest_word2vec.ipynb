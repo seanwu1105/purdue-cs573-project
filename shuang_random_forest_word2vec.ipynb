{
 "cells": [
  {
   "cell_type": "code",
   "execution_count": 1,
   "metadata": {},
   "outputs": [],
   "source": [
    "import pandas as pd\n",
    "import numpy as np\n",
    "import sklearn.ensemble\n",
    "import sklearn.model_selection\n"
   ]
  },
  {
   "cell_type": "code",
   "execution_count": 2,
   "metadata": {},
   "outputs": [
    {
     "data": {
      "text/plain": [
       "(44955,)"
      ]
     },
     "execution_count": 2,
     "metadata": {},
     "output_type": "execute_result"
    }
   ],
   "source": [
    "df = pd.read_csv('./assets/preprocessed.csv', encoding='ISO-8859-1')\n",
    "\n",
    "labels = df['label'].to_numpy()\n",
    "\n",
    "labels.shape\n"
   ]
  },
  {
   "cell_type": "code",
   "execution_count": 3,
   "metadata": {},
   "outputs": [
    {
     "data": {
      "text/plain": [
       "(44955, 300)"
      ]
     },
     "execution_count": 3,
     "metadata": {},
     "output_type": "execute_result"
    }
   ],
   "source": [
    "def load_embedded_word2vec() -> np.ndarray:\n",
    "    ret = np.load('./assets/embedded_word2vec.npz')['arr_0']\n",
    "    assert isinstance(ret, np.ndarray)\n",
    "    return ret\n",
    "\n",
    "\n",
    "features_bow = load_embedded_word2vec()\n",
    "\n",
    "features_bow.shape\n"
   ]
  },
  {
   "cell_type": "code",
   "execution_count": 4,
   "metadata": {},
   "outputs": [],
   "source": [
    "X_train, X_test, y_train, y_test = (sklearn\n",
    "                                    .model_selection\n",
    "                                    .train_test_split(features_bow,\n",
    "                                                      labels,\n",
    "                                                      test_size=0.1,\n",
    "                                                      random_state=1))\n",
    "\n",
    "classifier = sklearn.ensemble.RandomForestClassifier(n_estimators=1000,\n",
    "                                                     max_depth=10,\n",
    "                                                     n_jobs=-1)\n",
    "\n",
    "classifier.fit(X_train, y_train)\n",
    "y_pred = classifier.predict(X_test)\n"
   ]
  },
  {
   "cell_type": "code",
   "execution_count": 5,
   "metadata": {},
   "outputs": [
    {
     "name": "stdout",
     "output_type": "stream",
     "text": [
      "              precision    recall  f1-score   support\n",
      "\n",
      "           0       0.65      0.61      0.63      1661\n",
      "           1       0.67      0.25      0.36       823\n",
      "           2       0.61      0.80      0.69      2012\n",
      "\n",
      "    accuracy                           0.63      4496\n",
      "   macro avg       0.65      0.55      0.56      4496\n",
      "weighted avg       0.64      0.63      0.61      4496\n",
      "\n"
     ]
    }
   ],
   "source": [
    "print(sklearn.metrics.classification_report(y_test, y_pred))"
   ]
  },
  {
   "cell_type": "code",
   "execution_count": 6,
   "metadata": {},
   "outputs": [
    {
     "name": "stdout",
     "output_type": "stream",
     "text": [
      "[0.63655462 0.63161147 0.64063272 0.6384083  0.62847608]\n"
     ]
    }
   ],
   "source": [
    "accuracies = sklearn.model_selection.cross_val_score(classifier, X_train, y_train, scoring='accuracy', cv=5, n_jobs=-1)\n",
    "\n",
    "print(accuracies)"
   ]
  }
 ],
 "metadata": {
  "interpreter": {
   "hash": "70bd0d6ef9c5055a9d32c1f42adf368394e72f3f0dcd812e09eb039ff3864e99"
  },
  "kernelspec": {
   "display_name": "Python 3.8.5 64-bit ('.venv': poetry)",
   "name": "python3"
  },
  "language_info": {
   "codemirror_mode": {
    "name": "ipython",
    "version": 3
   },
   "file_extension": ".py",
   "mimetype": "text/x-python",
   "name": "python",
   "nbconvert_exporter": "python",
   "pygments_lexer": "ipython3",
   "version": "3.8.5"
  },
  "orig_nbformat": 4
 },
 "nbformat": 4,
 "nbformat_minor": 2
}
