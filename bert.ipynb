{
 "cells": [
  {
   "cell_type": "code",
   "execution_count": 44,
   "metadata": {},
   "outputs": [],
   "source": [
    "import pandas as pd\n",
    "from sklearn import model_selection\n",
    "from sklearn.preprocessing import LabelEncoder\n",
    "import tensorflow as tf\n",
    "import tensorflow_hub as hub\n",
    "import tensorflow_text as text # Should not be removed as it is used in side-effect.\n",
    "from official.nlp import optimization\n",
    "import matplotlib.pyplot as plt\n"
   ]
  },
  {
   "cell_type": "code",
   "execution_count": 45,
   "metadata": {},
   "outputs": [],
   "source": [
    "PREPROCESSED_DATA_PATH = 'assets/preprocessed.csv'\n",
    "df = pd.read_csv(PREPROCESSED_DATA_PATH, encoding='ISO-8859-1')\n",
    "data = df['text']\n",
    "data.fillna('', inplace=True)\n",
    "labels = df['label'].to_numpy()"
   ]
  },
  {
   "cell_type": "code",
   "execution_count": 46,
   "metadata": {},
   "outputs": [],
   "source": [
    "X_train, X_test, y_train, y_test = model_selection.train_test_split(\n",
    "    data, labels, test_size=0.2, random_state=42)\n",
    "\n",
    "y_train = tf.keras.utils.to_categorical(LabelEncoder().fit_transform(y_train))\n",
    "y_test = tf.keras.utils.to_categorical(LabelEncoder().fit_transform(y_test))"
   ]
  },
  {
   "cell_type": "code",
   "execution_count": 47,
   "metadata": {},
   "outputs": [],
   "source": [
    "tfhub_handle_encoder = 'https://tfhub.dev/tensorflow/small_bert/bert_en_uncased_L-4_H-512_A-8/1'\n",
    "tfhub_handle_preprocess = 'https://tfhub.dev/tensorflow/bert_en_uncased_preprocess/3'\n",
    "\n",
    "\n",
    "def bert_text_classification():\n",
    "\n",
    "    # Text Input\n",
    "    text_input = tf.keras.layers.Input(shape=(), dtype=tf.string, name='text')\n",
    "\n",
    "    # Preprocessing Layer\n",
    "    preprocessing_layer = hub.KerasLayer(\n",
    "        tfhub_handle_preprocess, name='preprocessing')\n",
    "\n",
    "    # Encoding Layer\n",
    "    encoder_inputs = preprocessing_layer(text_input)\n",
    "    encoder = hub.KerasLayer(tfhub_handle_encoder,\n",
    "                             trainable=True, name='BERT_encoder')\n",
    "\n",
    "    outputs = encoder(encoder_inputs)\n",
    "\n",
    "    # Classification Layer\n",
    "    net = outputs['pooled_output']\n",
    "    net = tf.keras.layers.Dropout(0.2)(net)\n",
    "    net = tf.keras.layers.Dense(\n",
    "        y_train.shape[1], activation='softmax', name='classifier')(net)\n",
    "\n",
    "    model = tf.keras.Model(text_input, net)\n",
    "    return model\n",
    "\n",
    "\n",
    "model = bert_text_classification()\n"
   ]
  },
  {
   "cell_type": "code",
   "execution_count": 48,
   "metadata": {},
   "outputs": [],
   "source": [
    "loss = tf.keras.losses.CategoricalCrossentropy()\n",
    "\n",
    "BATCH_SIZE = 128\n",
    "EPOCHS = 16\n",
    "LEARNING_RATE = 1e-05\n",
    "\n",
    "# Use the same optimizer that BERT was originally trained with: the \"Adaptive\n",
    "# Moments\" (Adam).\n",
    "steps_per_epoch = int(len(X_train) / BATCH_SIZE)\n",
    "num_train_steps = steps_per_epoch * EPOCHS\n",
    "num_warmup_steps = int(0.1 * num_train_steps / BATCH_SIZE)\n",
    "\n",
    "optimizer = optimization.create_optimizer(init_lr=LEARNING_RATE,\n",
    "                                          num_train_steps=num_train_steps,\n",
    "                                          num_warmup_steps=num_warmup_steps,\n",
    "                                          optimizer_type='adamw')\n",
    "\n",
    "# -- compile the model --\n",
    "model.compile(optimizer=optimizer,\n",
    "              loss=loss,\n",
    "              metrics=['accuracy'])\n"
   ]
  },
  {
   "cell_type": "code",
   "execution_count": 49,
   "metadata": {},
   "outputs": [
    {
     "name": "stdout",
     "output_type": "stream",
     "text": [
      "Epoch 1/16\n",
      "225/225 [==============================] - 1238s 5s/step - loss: 0.8958 - accuracy: 0.5811 - val_loss: 0.6875 - val_accuracy: 0.7121\n",
      "Epoch 2/16\n",
      "225/225 [==============================] - 1233s 5s/step - loss: 0.6798 - accuracy: 0.7222 - val_loss: 0.5949 - val_accuracy: 0.7646\n",
      "Epoch 3/16\n",
      "225/225 [==============================] - 1233s 5s/step - loss: 0.5991 - accuracy: 0.7650 - val_loss: 0.5558 - val_accuracy: 0.7869\n",
      "Epoch 4/16\n",
      "225/225 [==============================] - 1234s 5s/step - loss: 0.5406 - accuracy: 0.7930 - val_loss: 0.5254 - val_accuracy: 0.8034\n",
      "Epoch 5/16\n",
      "225/225 [==============================] - 1238s 6s/step - loss: 0.5012 - accuracy: 0.8145 - val_loss: 0.5103 - val_accuracy: 0.8102\n",
      "Epoch 6/16\n",
      "225/225 [==============================] - 1238s 6s/step - loss: 0.4733 - accuracy: 0.8266 - val_loss: 0.4898 - val_accuracy: 0.8223\n",
      "Epoch 7/16\n",
      "225/225 [==============================] - 1237s 5s/step - loss: 0.4476 - accuracy: 0.8405 - val_loss: 0.4836 - val_accuracy: 0.8273\n",
      "Epoch 8/16\n",
      "225/225 [==============================] - 1250s 6s/step - loss: 0.4246 - accuracy: 0.8501 - val_loss: 0.4846 - val_accuracy: 0.8316\n",
      "Epoch 9/16\n",
      "225/225 [==============================] - 1270s 6s/step - loss: 0.4070 - accuracy: 0.8550 - val_loss: 0.4856 - val_accuracy: 0.8343\n",
      "Epoch 10/16\n",
      "225/225 [==============================] - 1269s 6s/step - loss: 0.3885 - accuracy: 0.8625 - val_loss: 0.4767 - val_accuracy: 0.8312\n",
      "Epoch 11/16\n",
      "225/225 [==============================] - 1270s 6s/step - loss: 0.3716 - accuracy: 0.8709 - val_loss: 0.4820 - val_accuracy: 0.8380\n",
      "Epoch 12/16\n",
      "225/225 [==============================] - 1269s 6s/step - loss: 0.3603 - accuracy: 0.8761 - val_loss: 0.4806 - val_accuracy: 0.8389\n",
      "Epoch 13/16\n",
      "225/225 [==============================] - 1270s 6s/step - loss: 0.3501 - accuracy: 0.8795 - val_loss: 0.4882 - val_accuracy: 0.8385\n",
      "Epoch 14/16\n",
      "225/225 [==============================] - 1270s 6s/step - loss: 0.3409 - accuracy: 0.8819 - val_loss: 0.4796 - val_accuracy: 0.8422\n",
      "Epoch 15/16\n",
      "225/225 [==============================] - 1271s 6s/step - loss: 0.3332 - accuracy: 0.8857 - val_loss: 0.4831 - val_accuracy: 0.8410\n",
      "Epoch 16/16\n",
      "225/225 [==============================] - 1231s 5s/step - loss: 0.3235 - accuracy: 0.8887 - val_loss: 0.4832 - val_accuracy: 0.8379\n"
     ]
    }
   ],
   "source": [
    "history = model.fit(x=X_train,\n",
    "                    y=y_train,\n",
    "                    validation_split=0.2,\n",
    "                    epochs=EPOCHS,\n",
    "                    verbose=1,\n",
    "                    batch_size=BATCH_SIZE)"
   ]
  },
  {
   "cell_type": "code",
   "execution_count": 50,
   "metadata": {},
   "outputs": [
    {
     "data": {
      "image/png": "[encoded data removed]",
      "text/plain": [
       "<Figure size 864x576 with 2 Axes>"
      ]
     },
     "metadata": {
      "needs_background": "light"
     },
     "output_type": "display_data"
    }
   ],
   "source": [
    "acc = history.history['accuracy']\n",
    "val_acc = history.history['val_accuracy']\n",
    "\n",
    "loss = history.history['loss']\n",
    "val_loss = history.history['val_loss']\n",
    "\n",
    "plt.figure(figsize=(12, 8))\n",
    "\n",
    "plt.subplot(2, 1, 1)\n",
    "plt.plot(acc, label='Training Accuracy')\n",
    "plt.plot(val_acc, label='Validation Accuracy')\n",
    "plt.legend(loc='lower right')\n",
    "plt.ylabel('Accuracy')\n",
    "plt.ylim([min(plt.ylim()), 1])\n",
    "plt.title('Training and Validation Accuracy')\n",
    "\n",
    "plt.subplot(2, 1, 2)\n",
    "plt.plot(loss, label='Training Loss')\n",
    "plt.plot(val_loss, label='Validation Loss')\n",
    "plt.legend(loc='upper right')\n",
    "plt.ylabel('Loss - Cross Entropy')\n",
    "plt.xlabel('epoch')\n",
    "plt.ylim([0, 1.0])\n",
    "plt.title('Training and Validation Loss')\n",
    "\n",
    "plt.show()\n"
   ]
  },
  {
   "cell_type": "code",
   "execution_count": 51,
   "metadata": {},
   "outputs": [
    {
     "name": "stdout",
     "output_type": "stream",
     "text": [
      "281/281 [==============================] - 96s 342ms/step - loss: 0.4685 - accuracy: 0.8397\n",
      "test loss:  0.4685269594192505 , test acc:  83.9728593826294 %\n"
     ]
    }
   ],
   "source": [
    "loss, acc = model.evaluate(x=X_test,\n",
    "                           y=y_test)\n",
    "print(\"test loss: \", loss, \", test acc: \", 100 * acc, \"%\")\n"
   ]
  },
  {
   "cell_type": "code",
   "execution_count": 52,
   "metadata": {},
   "outputs": [
    {
     "name": "stderr",
     "output_type": "stream",
     "text": [
      "2021-11-28 18:59:59.721933: W tensorflow/python/util/util.cc:368] Sets are not currently considered sequences, but this may change in the future, so consider avoiding using them.\n",
      "WARNING:absl:Found untraced functions such as restored_function_body, restored_function_body, restored_function_body, restored_function_body, restored_function_body while saving (showing 5 of 310). These functions will not be directly callable after loading.\n"
     ]
    },
    {
     "name": "stdout",
     "output_type": "stream",
     "text": [
      "INFO:tensorflow:Assets written to: bert_classifier_model/assets\n"
     ]
    },
    {
     "name": "stderr",
     "output_type": "stream",
     "text": [
      "INFO:tensorflow:Assets written to: bert_classifier_model/assets\n"
     ]
    }
   ],
   "source": [
    "model.save('bert_classifier_model')\n"
   ]
  }
 ],
 "metadata": {
  "interpreter": {
   "hash": "4b5a55ad0ced575594b0c43a826a403fede8198b3c7db7b1b0f97f980daef42b"
  },
  "kernelspec": {
   "display_name": "Python 3.8.5 64-bit ('.venv': poetry)",
   "language": "python",
   "name": "python3"
  },
  "language_info": {
   "codemirror_mode": {
    "name": "ipython",
    "version": 3
   },
   "file_extension": ".py",
   "mimetype": "text/x-python",
   "name": "python",
   "nbconvert_exporter": "python",
   "pygments_lexer": "ipython3",
   "version": "3.8.5"
  },
  "orig_nbformat": 4
 },
 "nbformat": 4,
 "nbformat_minor": 2
}
